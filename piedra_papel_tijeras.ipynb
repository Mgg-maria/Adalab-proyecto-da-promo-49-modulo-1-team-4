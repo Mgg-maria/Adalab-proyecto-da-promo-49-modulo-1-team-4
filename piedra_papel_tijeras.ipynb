{
 "cells": [
  {
   "cell_type": "markdown",
   "metadata": {},
   "source": [
    "PIEDRA, PAPEL O TIJERAS"
   ]
  },
  {
   "cell_type": "markdown",
   "metadata": {},
   "source": [
    "Cliente:\n",
    "¿Qué nos ha pedido?"
   ]
  },
  {
   "cell_type": "code",
   "execution_count": null,
   "metadata": {},
   "outputs": [],
   "source": []
  },
  {
   "cell_type": "markdown",
   "metadata": {},
   "source": [
    "Objetivo:\n",
    "- Queremos demostrar la funcionalidad del juego\n",
    "- Entretener al usuario.\n",
    "- Intuitivo.\n",
    "\n",
    "\n",
    "\n",
    "\n",
    "\n",
    "\n"
   ]
  },
  {
   "cell_type": "markdown",
   "metadata": {},
   "source": [
    "Audiencia: \n",
    "- Todas las edades\n",
    "- Adolescentes\n",
    "- Todos los que busquen un método de elección."
   ]
  },
  {
   "cell_type": "markdown",
   "metadata": {},
   "source": [
    "Aspectos importantes del juego a destacar:\n",
    "\n"
   ]
  },
  {
   "cell_type": "markdown",
   "metadata": {},
   "source": [
    "- Intuitivo.\n",
    "- Personalización (Nick para cada jugador)\n",
    "\n"
   ]
  },
  {
   "cell_type": "markdown",
   "metadata": {
    "vscode": {
     "languageId": "plaintext"
    }
   },
   "source": [
    "Código"
   ]
  },
  {
   "cell_type": "code",
   "execution_count": 2,
   "metadata": {},
   "outputs": [],
   "source": [
    "# Vamos a definir cuántos puntos necesitas para ganar \n",
    "puntos_necesarios = 3"
   ]
  },
  {
   "cell_type": "code",
   "execution_count": 3,
   "metadata": {},
   "outputs": [],
   "source": [
    "# Definimos los resultados posibles\n",
    "eleccion_jugador = input(\"Piedra, Papel o Tijeras 1,2,3: \")\n"
   ]
  },
  {
   "cell_type": "code",
   "execution_count": 20,
   "metadata": {},
   "outputs": [
    {
     "name": "stdout",
     "output_type": "stream",
     "text": [
      "piedra\n"
     ]
    }
   ],
   "source": [
    "# El jugador_compu se define para que nos devuelva un resultado aleatorio entre \"Piedra\" \"Papel\" \"Tijera\"\n",
    "jugador_compu = random.choice([\"piedra\",\"papel\",\"tijera\"])\n",
    "print(jugador_compu)"
   ]
  },
  {
   "cell_type": "code",
   "execution_count": null,
   "metadata": {},
   "outputs": [
    {
     "name": "stdout",
     "output_type": "stream",
     "text": [
      "isabel\n",
      "piedra vs papel\n",
      "¡Un punto menos, pringao!\n",
      "papel vs papel\n",
      "¡Empate!\n",
      "papel vs papel\n",
      "¡Empate!\n",
      "papel vs papel\n",
      "¡Empate!\n",
      "piedra vs papel\n",
      "¡Un punto menos, pringao!\n",
      "tijera vs papel\n",
      "¡Has ganado un punto!\n",
      "papel vs papel\n",
      "¡Empate!\n",
      "papel vs papel\n",
      "¡Empate!\n",
      "papel vs papel\n",
      "¡Empate!\n",
      "piedra vs papel\n",
      "¡Un punto menos, pringao!\n",
      "---------------------\n",
      "compu tiene tres puntos, has perdido!\n"
     ]
    }
   ],
   "source": [
    "import random\n",
    "\n",
    "jugador = input (\"¿Cómo te llamas?\").lower()\n",
    "print(jugador)\n",
    "\n",
    "jugador_compu = random.choice([\"piedra\",\"papel\",\"tijera\"])\n",
    "\n",
    "puntos_jugador = 0\n",
    "puntos_compu = 0\n",
    "\n",
    "while puntos_jugador < 3 and puntos_compu < 3:\n",
    "    eleccion_jugador = input(\"Elige: piedra, papel o tijera\").lower()\n",
    "    print(eleccion_jugador, \"vs\", jugador_compu)\n",
    "    if eleccion_jugador == jugador_compu:\n",
    "            print(\"¡Empate!\")\n",
    "    elif eleccion_jugador == 'piedra' and jugador_compu == 'tijera':\n",
    "            print('¡Has ganado un punto!')\n",
    "            puntos_jugador += 1\n",
    "    elif eleccion_jugador == 'papel' and jugador_compu == 'piedra':\n",
    "            print('¡Has ganado un punto!')\n",
    "            puntos_jugador += 1\n",
    "    elif eleccion_jugador == 'tijera' and jugador_compu == 'papel':\n",
    "            print('¡Has ganado un punto!')\n",
    "            puntos_jugador += 1\n",
    "    else:\n",
    "            print('¡Un punto menos, pringao!')\n",
    "            puntos_compu += 1\n",
    "\n",
    "print (\"---------------------\")\n",
    "\n",
    "if puntos_jugador ==3:\n",
    "    print(\"Tienes tres puntos, has ganado.\")\n",
    "    \n",
    "else:\n",
    "    print (\"Compu tiene tres puntos, has perdido.\")\n",
    "\n",
    "\n",
    "# el juego basico funciona, mejorar la sintaxis de respuestas, incluir nombre de ganador etc\n",
    "# falta tambien si no elijes entre las opciones que de error\n"
   ]
  },
  {
   "cell_type": "code",
   "execution_count": 3,
   "metadata": {},
   "outputs": [
    {
     "name": "stdout",
     "output_type": "stream",
     "text": [
      "tienes tres puntos, has ganado\n"
     ]
    }
   ],
   "source": [
    "if puntos_jugador ==3:\n",
    "    print(\"tienes tres puntos, has ganado\")\n",
    "    \n",
    "else:\n",
    "    print (\"compu tiene tres puntos, has perdido!\")"
   ]
  },
  {
   "cell_type": "code",
   "execution_count": null,
   "metadata": {},
   "outputs": [],
   "source": []
  },
  {
   "cell_type": "code",
   "execution_count": null,
   "metadata": {},
   "outputs": [],
   "source": []
  }
 ],
 "metadata": {
  "kernelspec": {
   "display_name": "base",
   "language": "python",
   "name": "python3"
  },
  "language_info": {
   "codemirror_mode": {
    "name": "ipython",
    "version": 3
   },
   "file_extension": ".py",
   "mimetype": "text/x-python",
   "name": "python",
   "nbconvert_exporter": "python",
   "pygments_lexer": "ipython3",
   "version": "3.12.7"
  }
 },
 "nbformat": 4,
 "nbformat_minor": 2
}
