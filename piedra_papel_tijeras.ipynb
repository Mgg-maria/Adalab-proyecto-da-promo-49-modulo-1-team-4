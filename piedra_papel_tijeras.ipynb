{
 "cells": [
  {
   "cell_type": "markdown",
   "metadata": {},
   "source": [
    "PIEDRA, PAPEL O TIJERAS"
   ]
  },
  {
   "cell_type": "markdown",
   "metadata": {},
   "source": [
    "Cliente:\n",
    "¿Qué nos ha pedido?"
   ]
  },
  {
   "cell_type": "code",
   "execution_count": null,
   "metadata": {},
   "outputs": [],
   "source": []
  },
  {
   "cell_type": "markdown",
   "metadata": {},
   "source": [
    "Objetivo:\n",
    "- Queremos demostrar la funcionalidad del juego\n",
    "- Entretener al usuario.\n",
    "- Intuitivo.\n",
    "\n",
    "\n",
    "\n",
    "\n",
    "\n",
    "\n"
   ]
  },
  {
   "cell_type": "markdown",
   "metadata": {},
   "source": [
    "Audiencia: \n",
    "- Todas las edades\n",
    "- Adolescentes\n",
    "- Todos los que busquen un método de elección."
   ]
  },
  {
   "cell_type": "markdown",
   "metadata": {},
   "source": [
    "Aspectos importantes del juego a destacar:\n",
    "\n"
   ]
  },
  {
   "cell_type": "markdown",
   "metadata": {},
   "source": [
    "- Intuitivo.\n",
    "- Personalización (Nick para cada jugador)\n",
    "\n"
   ]
  },
  {
   "cell_type": "markdown",
   "metadata": {
    "vscode": {
     "languageId": "plaintext"
    }
   },
   "source": [
    "Código"
   ]
  },
  {
   "cell_type": "code",
   "execution_count": null,
   "metadata": {},
   "outputs": [],
   "source": [
    "# Esto es algo ADICIONAL si funciona lo básico: Preguntarle al jugador cual es su nombre (input) \n",
    "\n",
    "\n"
   ]
  },
  {
   "cell_type": "code",
   "execution_count": 2,
   "metadata": {},
   "outputs": [],
   "source": [
    "# Vamos a definir cuántos puntos necesitas para ganar \n",
    "puntos_necesarios = 3"
   ]
  },
  {
   "cell_type": "code",
   "execution_count": 3,
   "metadata": {},
   "outputs": [],
   "source": [
    "# Definimos los resultados posibles\n",
    "eleccion_jugador = input(\"Piedra, Papel o Tijeras 1,2,3: \")\n"
   ]
  },
  {
   "cell_type": "code",
   "execution_count": 15,
   "metadata": {},
   "outputs": [],
   "source": [
    "# Ponemos \"random\" para que el sistema genere un resultado aleatorio de entre los que definamos \n",
    "import random"
   ]
  },
  {
   "cell_type": "code",
   "execution_count": 20,
   "metadata": {},
   "outputs": [
    {
     "name": "stdout",
     "output_type": "stream",
     "text": [
      "piedra\n"
     ]
    }
   ],
   "source": [
    "# El jugador_compu se define para que nos devuelva un resultado aleatorio entre \"Piedra\" \"Papel\" \"Tijera\"\n",
    "jugador_compu = random.choice([\"piedra\",\"papel\",\"tijera\"])\n",
    "print(jugador_compu)"
   ]
  },
  {
   "cell_type": "code",
   "execution_count": 30,
   "metadata": {},
   "outputs": [
    {
     "name": "stdout",
     "output_type": "stream",
     "text": [
      "tijera\n",
      "¡Aprende a escribir!\n",
      "¡Empate!\n",
      "¡Aprende a escribir!\n",
      "¡Has ganado un punto!\n",
      "¡Aprende a escribir!\n",
      "¡Un punto menos, pringao!\n",
      "¡Aprende a escribir!\n",
      "¡Un punto menos, pringao!\n",
      "¡Aprende a escribir!\n",
      "¡Un punto menos, pringao!\n"
     ]
    }
   ],
   "source": [
    "import random\n",
    "\n",
    "jugador = input (\"como te llamas?\").lower()\n",
    "\n",
    "print(jugador)\n",
    "\n",
    "jugador_compu = random.choice([\"piedra\",\"papel\",\"tijera\"])\n",
    "\n",
    "puntos_jugador = 0\n",
    "puntos_compu = 0\n",
    "\n",
    "while puntos_jugador < 3 and puntos_compu < 3:\n",
    "\n",
    "    eleccion_jugador = input(\"elige, piedra, papel o tijera\").lower()\n",
    "\n",
    "    if eleccion_jugador != 'piedra'or 'papel'or'tijera':\n",
    "        print('¡Aprende a escribir!')\n",
    "        if eleccion_jugador == jugador_compu:\n",
    "            print(\"¡Empate!\")\n",
    "        elif eleccion_jugador == 'piedra' and jugador_compu == 'tijera':\n",
    "            print('¡Has ganado un punto!')\n",
    "            puntos_jugador += 1\n",
    "        elif eleccion_jugador == 'papel' and jugador_compu == 'piedra':\n",
    "            print('¡Has ganado un punto!')\n",
    "            puntos_jugador += 1\n",
    "        elif eleccion_jugador == 'tijera' and jugador_compu == 'papel':\n",
    "            print('¡Has ganado un punto!')\n",
    "            puntos_jugador += 1\n",
    "        else:\n",
    "            print('¡Un punto menos, pringao!')\n",
    "            puntos_compu += 1"
   ]
  },
  {
   "cell_type": "code",
   "execution_count": 18,
   "metadata": {},
   "outputs": [
    {
     "ename": "NameError",
     "evalue": "name 'tijeras' is not defined",
     "output_type": "error",
     "traceback": [
      "\u001b[1;31m---------------------------------------------------------------------------\u001b[0m",
      "\u001b[1;31mNameError\u001b[0m                                 Traceback (most recent call last)",
      "Cell \u001b[1;32mIn[18], line 1\u001b[0m\n\u001b[1;32m----> 1\u001b[0m \u001b[43mtijeras\u001b[49m \u001b[38;5;241m>\u001b[39m papel\n\u001b[0;32m      2\u001b[0m tijeras \u001b[38;5;241m<\u001b[39m piedra\n\u001b[0;32m      3\u001b[0m tijeras \u001b[38;5;241m=\u001b[39m tijeras\n",
      "\u001b[1;31mNameError\u001b[0m: name 'tijeras' is not defined"
     ]
    }
   ],
   "source": [
    "tijeras > papel\n",
    "tijeras < piedra\n",
    "tijeras = tijeras\n",
    "\n",
    "papel > piedra\n",
    "papel < tijeras\n",
    "\n",
    "piedra > tijeras\n",
    "piedra < papel "
   ]
  },
  {
   "cell_type": "code",
   "execution_count": null,
   "metadata": {},
   "outputs": [],
   "source": []
  },
  {
   "cell_type": "code",
   "execution_count": null,
   "metadata": {},
   "outputs": [],
   "source": []
  }
 ],
 "metadata": {
  "kernelspec": {
   "display_name": "Python 3",
   "language": "python",
   "name": "python3"
  },
  "language_info": {
   "codemirror_mode": {
    "name": "ipython",
    "version": 3
   },
   "file_extension": ".py",
   "mimetype": "text/x-python",
   "name": "python",
   "nbconvert_exporter": "python",
   "pygments_lexer": "ipython3",
   "version": "3.11.9"
  }
 },
 "nbformat": 4,
 "nbformat_minor": 2
}
