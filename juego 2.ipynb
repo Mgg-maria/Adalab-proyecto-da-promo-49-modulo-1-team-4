{
 "cells": [
  {
   "cell_type": "markdown",
   "metadata": {},
   "source": [
    "JUEGO 2: PREGUNTAS Y RESPUESTAS"
   ]
  },
  {
   "cell_type": "markdown",
   "metadata": {},
   "source": [
    "OBJETIVO:\n"
   ]
  },
  {
   "cell_type": "code",
   "execution_count": 14,
   "metadata": {},
   "outputs": [],
   "source": [
    "# poner lower o upper para las mayusculas"
   ]
  },
  {
   "cell_type": "code",
   "execution_count": 15,
   "metadata": {},
   "outputs": [],
   "source": [
    "diccionario_geo = {\"serbia\" : \"belgrado\", \"canada\": \"otawa\", \"colombia\":\"bogota\", \n",
    "                   \"francia\" : \"paris\", \"inglaterra\":\"londres\", \"brasil\": \"brasilia\", \"bulgaria\": \"sofia\", \n",
    "                   \"costa rica\": \"san jose\", \"argelia\":\"argel\", \"finlandia\": \"helsinki\", \"georgia\": \"tiflis\", \n",
    "                   \"japon\":\"tokio\", \"bolivia\": \"sucre\", \"portugal\" : \"lisboa\", \"nepal\" : \"katmandu\"}"
   ]
  },
  {
   "cell_type": "code",
   "execution_count": 16,
   "metadata": {},
   "outputs": [
    {
     "data": {
      "text/plain": [
       "{'serbia': 'belgrado',\n",
       " 'canada': 'otawa',\n",
       " 'colombia': 'bogota',\n",
       " 'francia': 'paris',\n",
       " 'inglaterra': 'londres',\n",
       " 'brasil': 'brasilia',\n",
       " 'bulgaria': 'sofia',\n",
       " 'costa rica': 'san jose',\n",
       " 'argelia': 'argel',\n",
       " 'finlandia': 'helsinki',\n",
       " 'georgia': 'tiflis',\n",
       " 'japon': 'tokio',\n",
       " 'bolivia': 'sucre',\n",
       " 'portugal': 'lisboa',\n",
       " 'nepal': 'katmandu'}"
      ]
     },
     "execution_count": 16,
     "metadata": {},
     "output_type": "execute_result"
    }
   ],
   "source": [
    "diccionario_geo"
   ]
  },
  {
   "cell_type": "code",
   "execution_count": null,
   "metadata": {},
   "outputs": [],
   "source": []
  },
  {
   "cell_type": "code",
   "execution_count": null,
   "metadata": {},
   "outputs": [
    {
     "name": "stdout",
     "output_type": "stream",
     "text": [
      "Eres tonta la respuesta correcta es: belgrado\n",
      "Eres super lista.\n",
      "Eres tonta la respuesta correcta es: sofia\n",
      "Eres super lista.\n",
      "Eres super lista.\n",
      "Eres tonta la respuesta correcta es: tiflis\n"
     ]
    }
   ],
   "source": [
    "import random      # clave-valor      keys- values\n",
    "\n",
    "\n",
    "#aqui hay que poner un print de si lo que pone el jugador es true que se lo diga y le un punto\n",
    "contador_jugador = 0  # Respuestas correctas\n",
    "intentos_fallidos = 0  # Respuestas incorrectas\n",
    "ganar_partida = 5  # Número de respuestas correctas para ganar\n",
    "perder_partida = 3  # Número de respuestas incorrectas para perder\n",
    "# Bucle principal del juego\n",
    "while contador_jugador < ganar_partida and intentos_fallidos < perder_partida:\n",
    "    eleccion_compu = random.choice(list(diccionario_geo.keys()))\n",
    "    respuesta_correcta = diccionario_geo.get(eleccion_compu)\n",
    "    eleccion_jugador = input(f\"¿Cuál es la capital de {eleccion_compu}? \").strip().lower()\n",
    "    if eleccion_jugador == respuesta_correcta:\n",
    "        print(\"Eres super lista.\")\n",
    "        contador_jugador += 1\n",
    "        \n",
    "    else:\n",
    "        print(f\"Eres tonta la respuesta correcta es: {respuesta_correcta}\")\n",
    "        intentos_fallidos += 1\n",
    "\n",
    "    print(f\"Llevas {contador_jugador} puntos y has fallado {intentos_fallidos} veces\")\n",
    "\n",
    "## FALTA: \n",
    "# Decir si hemos ganado o perdido\n",
    "# Dos intentos por pregunta\n",
    "# Repite: añadir más o que no repita paises\n",
    "\n"
   ]
  },
  {
   "cell_type": "code",
   "execution_count": null,
   "metadata": {},
   "outputs": [
    {
     "data": {
      "text/plain": [
       "'import random      # clave-valor      keys- values\\n\\nrespuesta_correcta = diccionario_geo.get(eleccion_compu) #esto funciona porque get devuelve el valor de elección compu\\neleccion_jugador = input(f\"¿Cuál es la capital de {eleccion_compu}?\").strip().lower()\\n\\n#aqui hay que poner un print de si lo que pone el jugador es true que se lo diga y le un punto\\ncontador_jugador = 0  # Respuestas correctas\\nintentos_fallidos = 0  # Respuestas incorrectas\\nganar_partida = 5  # Número de respuestas correctas para ganar\\nperder_partida = 3  # Número de respuestas incorrectas para perder\\n# Bucle principal del juego\\nwhile contador_jugador < ganar_partida and intentos_fallidos < perder_partida:\\n    eleccion_compu = random.choice(list(diccionario_geo.keys()))\\n    respuesta_correcta = diccionario_geo.get(eleccion_compu)\\n    eleccion_jugador = input(f\"¿Cuál es la capital de {eleccion_compu}? \").strip().lower()\\n    if eleccion_jugador == respuesta_correcta:\\n        print(\"Eres super lista.\")\\n        contador_jugador += 1\\n    else:\\n        print(f\"Eres tonta la respuesta correcta es: {respuesta_correcta}\")\\n        intentos_fallidos += 1\\n\\n\\n# FALTA: \\n# Decir si hemos ganado o perdido\\n# La primera no la coge\\n# Dos intentos por pregunta'"
      ]
     },
     "execution_count": 18,
     "metadata": {},
     "output_type": "execute_result"
    }
   ],
   "source": [
    "\"\"\"import random      # clave-valor      keys- values\n",
    "\n",
    "respuesta_correcta = diccionario_geo.get(eleccion_compu) #esto funciona porque get devuelve el valor de elección compu\n",
    "eleccion_jugador = input(f\"¿Cuál es la capital de {eleccion_compu}?\").strip().lower()\n",
    "\n",
    "#aqui hay que poner un print de si lo que pone el jugador es true que se lo diga y le un punto\n",
    "contador_jugador = 0  # Respuestas correctas\n",
    "intentos_fallidos = 0  # Respuestas incorrectas\n",
    "ganar_partida = 5  # Número de respuestas correctas para ganar\n",
    "perder_partida = 3  # Número de respuestas incorrectas para perder\n",
    "# Bucle principal del juego\n",
    "while contador_jugador < ganar_partida and intentos_fallidos < perder_partida:\n",
    "    eleccion_compu = random.choice(list(diccionario_geo.keys()))\n",
    "    respuesta_correcta = diccionario_geo.get(eleccion_compu)\n",
    "    eleccion_jugador = input(f\"¿Cuál es la capital de {eleccion_compu}? \").strip().lower()\n",
    "    if eleccion_jugador == respuesta_correcta:\n",
    "        print(\"Eres super lista.\")\n",
    "        contador_jugador += 1\n",
    "    else:\n",
    "        print(f\"Eres tonta la respuesta correcta es: {respuesta_correcta}\")\n",
    "        intentos_fallidos += 1\n",
    "\n",
    "\n",
    "# FALTA: \n",
    "# Decir si hemos ganado o perdido\n",
    "# La primera no la coge\n",
    "# Dos intentos por pregunta\"\"\""
   ]
  }
 ],
 "metadata": {
  "kernelspec": {
   "display_name": "base",
   "language": "python",
   "name": "python3"
  },
  "language_info": {
   "codemirror_mode": {
    "name": "ipython",
    "version": 3
   },
   "file_extension": ".py",
   "mimetype": "text/x-python",
   "name": "python",
   "nbconvert_exporter": "python",
   "pygments_lexer": "ipython3",
   "version": "3.12.7"
  }
 },
 "nbformat": 4,
 "nbformat_minor": 2
}
