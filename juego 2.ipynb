{
 "cells": [
  {
   "cell_type": "markdown",
   "metadata": {},
   "source": [
    "JUEGO 2: PREGUNTAS Y RESPUESTAS"
   ]
  },
  {
   "cell_type": "markdown",
   "metadata": {},
   "source": [
    "OBJETIVO:\n"
   ]
  },
  {
   "cell_type": "code",
   "execution_count": 2,
   "metadata": {},
   "outputs": [],
   "source": [
    "# poner lower o upper para las mayusculas"
   ]
  },
  {
   "cell_type": "code",
   "execution_count": 3,
   "metadata": {},
   "outputs": [],
   "source": [
    "diccionario_geo = {\"serbia\" : \"belgrado\", \"canada\": \"otawa\", \"colombia\":\"bogota\", \n",
    "                   \"francia\" : \"paris\", \"inglaterra\":\"londres\", \"brasil\": \"brasilia\", \"bulgaria\": \"sofia\", \n",
    "                   \"costa rica\": \"san jose\", \"argelia\":\"argel\", \"finlandia\": \"helsinki\", \"georgia\": \"tiflis\", \n",
    "                   \"japon\":\"tokio\", \"bolivia\": \"sucre\", \"portugal\" : \"lisboa\", \"nepal\" : \"katmandu\"}"
   ]
  },
  {
   "cell_type": "code",
   "execution_count": 4,
   "metadata": {},
   "outputs": [
    {
     "data": {
      "text/plain": [
       "{'serbia': 'belgrado',\n",
       " 'canada': 'otawa',\n",
       " 'colombia': 'bogota',\n",
       " 'francia': 'paris',\n",
       " 'inglaterra': 'londres',\n",
       " 'brasil': 'brasilia',\n",
       " 'bulgaria': 'sofia',\n",
       " 'costa rica': 'san jose',\n",
       " 'argelia': 'argel',\n",
       " 'finlandia': 'helsinki',\n",
       " 'georgia': 'tiflis',\n",
       " 'japon': 'tokio',\n",
       " 'bolivia': 'sucre',\n",
       " 'portugal': 'lisboa',\n",
       " 'nepal': 'katmandu'}"
      ]
     },
     "execution_count": 4,
     "metadata": {},
     "output_type": "execute_result"
    }
   ],
   "source": [
    "diccionario_geo"
   ]
  },
  {
   "cell_type": "code",
   "execution_count": 5,
   "metadata": {},
   "outputs": [
    {
     "data": {
      "text/plain": [
       "dict_keys(['serbia', 'canada', 'colombia', 'francia', 'inglaterra', 'brasil', 'bulgaria', 'costa rica', 'argelia', 'finlandia', 'georgia', 'japon', 'bolivia', 'portugal', 'nepal'])"
      ]
     },
     "execution_count": 5,
     "metadata": {},
     "output_type": "execute_result"
    }
   ],
   "source": [
    "diccionario_geo.keys()"
   ]
  },
  {
   "cell_type": "code",
   "execution_count": 6,
   "metadata": {},
   "outputs": [
    {
     "data": {
      "text/plain": [
       "['serbia',\n",
       " 'canada',\n",
       " 'colombia',\n",
       " 'francia',\n",
       " 'inglaterra',\n",
       " 'brasil',\n",
       " 'bulgaria',\n",
       " 'costa rica',\n",
       " 'argelia',\n",
       " 'finlandia',\n",
       " 'georgia',\n",
       " 'japon',\n",
       " 'bolivia',\n",
       " 'portugal',\n",
       " 'nepal']"
      ]
     },
     "execution_count": 6,
     "metadata": {},
     "output_type": "execute_result"
    }
   ],
   "source": [
    "list(diccionario_geo.keys())"
   ]
  },
  {
   "cell_type": "code",
   "execution_count": 7,
   "metadata": {},
   "outputs": [
    {
     "data": {
      "text/plain": [
       "15"
      ]
     },
     "execution_count": 7,
     "metadata": {},
     "output_type": "execute_result"
    }
   ],
   "source": [
    "len(list(diccionario_geo.keys()))"
   ]
  },
  {
   "cell_type": "code",
   "execution_count": null,
   "metadata": {},
   "outputs": [
    {
     "name": "stdout",
     "output_type": "stream",
     "text": [
      "paris\n"
     ]
    }
   ],
   "source": [
    "import random      # clave-valor      keys- values\n",
    "\n",
    "eleccion_compu = random.choice (list(diccionario_geo.keys()))\n",
    "respuesta_correcta = diccionario_geo.get(eleccion_compu) #esto funciona porque get devuelve el valor de elección compu\n",
    "\n",
    "eleccion_jugador = input(f\"¿Cuál es la capital de {eleccion_compu}?\")\n",
    "#aqui hay que poner un print de si lo que pone el jugador es true que s elo diga y le un punto\n",
    "print(eleccion_jugador)"
   ]
  },
  {
   "cell_type": "code",
   "execution_count": 30,
   "metadata": {},
   "outputs": [
    {
     "name": "stdout",
     "output_type": "stream",
     "text": [
      "paris\n"
     ]
    }
   ],
   "source": [
    "print(respuesta_correcta)  #esto funciona"
   ]
  },
  {
   "cell_type": "code",
   "execution_count": 32,
   "metadata": {},
   "outputs": [
    {
     "name": "stdout",
     "output_type": "stream",
     "text": [
      "eres super lista\n"
     ]
    }
   ],
   "source": [
    "if respuesta_correcta == eleccion_jugador:  #esto funciona\n",
    "    print(\"eres super lista\")\n",
    "\n",
    "else: \n",
    "    print(\"eres tonta\")"
   ]
  },
  {
   "cell_type": "code",
   "execution_count": null,
   "metadata": {},
   "outputs": [
    {
     "ename": "SyntaxError",
     "evalue": "invalid syntax (1196597986.py, line 7)",
     "output_type": "error",
     "traceback": [
      "\u001b[1;36m  Cell \u001b[1;32mIn[9], line 7\u001b[1;36m\u001b[0m\n\u001b[1;33m    while\u001b[0m\n\u001b[1;37m          ^\u001b[0m\n\u001b[1;31mSyntaxError\u001b[0m\u001b[1;31m:\u001b[0m invalid syntax\n"
     ]
    }
   ],
   "source": [
    "# nos falta definir while, los intentos y ponerlo todo junto\n",
    "# en cada pregunta tiene 2 oportunidades para acertar la capital\n",
    "contador_jugador = 0\n",
    "ganar_partida = 5 #intentos\n",
    "perder_partida = 3 #intentos\n",
    "\n",
    "# si falla 3 preguntas pierde y si acierta 5 gana\n",
    "while ganar_partida < 5 and perder_partida < 3:\n"
   ]
  }
 ],
 "metadata": {
  "kernelspec": {
   "display_name": "base",
   "language": "python",
   "name": "python3"
  },
  "language_info": {
   "codemirror_mode": {
    "name": "ipython",
    "version": 3
   },
   "file_extension": ".py",
   "mimetype": "text/x-python",
   "name": "python",
   "nbconvert_exporter": "python",
   "pygments_lexer": "ipython3",
   "version": "3.12.7"
  }
 },
 "nbformat": 4,
 "nbformat_minor": 2
}
