{
 "cells": [
  {
   "cell_type": "markdown",
   "metadata": {},
   "source": [
    "JUEGO 2: PREGUNTAS Y RESPUESTAS"
   ]
  },
  {
   "cell_type": "markdown",
   "metadata": {},
   "source": [
    "OBJETIVO:\n"
   ]
  },
  {
   "cell_type": "code",
   "execution_count": 3,
   "metadata": {},
   "outputs": [],
   "source": [
    "# poner lower o upper para las mayusculas\n"
   ]
  },
  {
   "cell_type": "code",
   "execution_count": 4,
   "metadata": {},
   "outputs": [],
   "source": [
    "diccionario_geo = {\"serbia\" : \"belgrado\", \"canada\": \"otawa\", \"colombia\":\"bogota\", \n",
    "                   \"francia\" : \"paris\", \"inglaterra\":\"londres\", \"brasil\": \"brasilia\", \"bulgaria\": \"sofia\", \n",
    "                   \"costa rica\": \"san jose\", \"argelia\":\"argel\", \"finlandia\": \"helsinki\", \"georgia\": \"tiflis\", \n",
    "                   \"japon\":\"tokio\", \"bolivia\": \"sucre\", \"portugal\" : \"lisboa\", \"nepal\" : \"katmandu\"}"
   ]
  },
  {
   "cell_type": "code",
   "execution_count": 5,
   "metadata": {},
   "outputs": [
    {
     "data": {
      "text/plain": [
       "{'serbia': 'belgrado',\n",
       " 'canada': 'otawa',\n",
       " 'colombia': 'bogota',\n",
       " 'francia': 'paris',\n",
       " 'inglaterra': 'londres',\n",
       " 'brasil': 'brasilia',\n",
       " 'bulgaria': 'sofia',\n",
       " 'costa rica': 'san jose',\n",
       " 'argelia': 'argel',\n",
       " 'finlandia': 'helsinki',\n",
       " 'georgia': 'tiflis',\n",
       " 'japon': 'tokio',\n",
       " 'bolivia': 'sucre',\n",
       " 'portugal': 'lisboa',\n",
       " 'nepal': 'katmandu'}"
      ]
     },
     "execution_count": 5,
     "metadata": {},
     "output_type": "execute_result"
    }
   ],
   "source": [
    "diccionario_geo"
   ]
  },
  {
   "cell_type": "code",
   "execution_count": 6,
   "metadata": {},
   "outputs": [
    {
     "data": {
      "text/plain": [
       "dict_keys(['serbia', 'canada', 'colombia', 'francia', 'inglaterra', 'brasil', 'bulgaria', 'costa rica', 'argelia', 'finlandia', 'georgia', 'japon', 'bolivia', 'portugal', 'nepal'])"
      ]
     },
     "execution_count": 6,
     "metadata": {},
     "output_type": "execute_result"
    }
   ],
   "source": [
    "diccionario_geo.keys()"
   ]
  },
  {
   "cell_type": "code",
   "execution_count": 7,
   "metadata": {},
   "outputs": [
    {
     "data": {
      "text/plain": [
       "['serbia',\n",
       " 'canada',\n",
       " 'colombia',\n",
       " 'francia',\n",
       " 'inglaterra',\n",
       " 'brasil',\n",
       " 'bulgaria',\n",
       " 'costa rica',\n",
       " 'argelia',\n",
       " 'finlandia',\n",
       " 'georgia',\n",
       " 'japon',\n",
       " 'bolivia',\n",
       " 'portugal',\n",
       " 'nepal']"
      ]
     },
     "execution_count": 7,
     "metadata": {},
     "output_type": "execute_result"
    }
   ],
   "source": [
    "list(diccionario_geo.keys())"
   ]
  },
  {
   "cell_type": "code",
   "execution_count": 8,
   "metadata": {},
   "outputs": [
    {
     "data": {
      "text/plain": [
       "15"
      ]
     },
     "execution_count": 8,
     "metadata": {},
     "output_type": "execute_result"
    }
   ],
   "source": [
    "len(list(diccionario_geo.keys()))"
   ]
  },
  {
   "cell_type": "code",
   "execution_count": 12,
   "metadata": {},
   "outputs": [
    {
     "name": "stdout",
     "output_type": "stream",
     "text": [
      "inglaterra\n"
     ]
    }
   ],
   "source": [
    "import random      # clave-valor      keys- values\n",
    "\n",
    "eleccion_compu = random.choice (list(diccionario_geo.keys()))\n",
    "print(eleccion_compu)"
   ]
  },
  {
   "cell_type": "code",
   "execution_count": null,
   "metadata": {},
   "outputs": [],
   "source": [
    "# en cada pregunta tiene dos oportunidades para acertar\n",
    "contador_jugador = "
   ]
  }
 ],
 "metadata": {
  "kernelspec": {
   "display_name": "base",
   "language": "python",
   "name": "python3"
  },
  "language_info": {
   "codemirror_mode": {
    "name": "ipython",
    "version": 3
   },
   "file_extension": ".py",
   "mimetype": "text/x-python",
   "name": "python",
   "nbconvert_exporter": "python",
   "pygments_lexer": "ipython3",
   "version": "3.12.7"
  }
 },
 "nbformat": 4,
 "nbformat_minor": 2
}
