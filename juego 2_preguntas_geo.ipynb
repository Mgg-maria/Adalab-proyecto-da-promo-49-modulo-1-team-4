{
 "cells": [
  {
   "cell_type": "markdown",
   "metadata": {},
   "source": [
    "JUEGO 2: PREGUNTAS Y RESPUESTAS"
   ]
  },
  {
   "cell_type": "markdown",
   "metadata": {},
   "source": [
    "OBJETIVO:\n"
   ]
  },
  {
   "cell_type": "code",
   "execution_count": 7,
   "metadata": {},
   "outputs": [],
   "source": [
    "# poner lower o upper para las mayusculas"
   ]
  },
  {
   "cell_type": "code",
   "execution_count": 8,
   "metadata": {},
   "outputs": [],
   "source": [
    "diccionario_geo = {\"serbia\" : \"belgrado\", \"canada\": \"otawa\", \"colombia\":\"bogota\", \n",
    "                   \"francia\" : \"paris\", \"inglaterra\":\"londres\", \"brasil\": \"brasilia\", \"bulgaria\": \"sofia\", \n",
    "                   \"costa rica\": \"san jose\", \"argelia\":\"argel\", \"finlandia\": \"helsinki\", \"georgia\": \"tiflis\", \n",
    "                   \"japon\":\"tokio\", \"bolivia\": \"sucre\", \"portugal\" : \"lisboa\", \"nepal\" : \"katmandu\"}"
   ]
  },
  {
   "cell_type": "code",
   "execution_count": 9,
   "metadata": {},
   "outputs": [
    {
     "data": {
      "text/plain": [
       "{'serbia': 'belgrado',\n",
       " 'canada': 'otawa',\n",
       " 'colombia': 'bogota',\n",
       " 'francia': 'paris',\n",
       " 'inglaterra': 'londres',\n",
       " 'brasil': 'brasilia',\n",
       " 'bulgaria': 'sofia',\n",
       " 'costa rica': 'san jose',\n",
       " 'argelia': 'argel',\n",
       " 'finlandia': 'helsinki',\n",
       " 'georgia': 'tiflis',\n",
       " 'japon': 'tokio',\n",
       " 'bolivia': 'sucre',\n",
       " 'portugal': 'lisboa',\n",
       " 'nepal': 'katmandu'}"
      ]
     },
     "execution_count": 9,
     "metadata": {},
     "output_type": "execute_result"
    }
   ],
   "source": [
    "diccionario_geo"
   ]
  },
  {
   "cell_type": "code",
   "execution_count": null,
   "metadata": {},
   "outputs": [
    {
     "name": "stdout",
     "output_type": "stream",
     "text": [
      "Eres tonta la respuesta correcta es: otawa\n",
      "Llevas 0 puntos y has fallado 1 veces\n",
      "Eres tonta la respuesta correcta es: argel\n",
      "Llevas 0 puntos y has fallado 2 veces\n",
      "Eres tonta la respuesta correcta es: sucre\n",
      "Llevas 0 puntos y has fallado 3 veces\n",
      "Has perdido\n"
     ]
    }
   ],
   "source": [
    "import random      # clave-valor      keys- values\n",
    "\n",
    "#variables contadores\n",
    "contador_jugador = 0  # Respuestas correctas\n",
    "intentos_fallidos = 0  # Respuestas incorrectas\n",
    "ganar_partida = 5  # Número de respuestas correctas para ganar\n",
    "perder_partida = 3  # Número de respuestas incorrectas para perder\n",
    "\n",
    "\n",
    "while contador_jugador < ganar_partida and intentos_fallidos < perder_partida:\n",
    "    eleccion_compu = random.choice(list(diccionario_geo.keys()))\n",
    "    respuesta_correcta = diccionario_geo.get(eleccion_compu)\n",
    "    eleccion_jugador = input(f\"¿Cuál es la capital de {eleccion_compu}? \").strip().lower()\n",
    "\n",
    "    if eleccion_jugador == respuesta_correcta:\n",
    "        print(\"Eres super lista.\")\n",
    "        contador_jugador += 1\n",
    "        \n",
    "    else:\n",
    "        print(f\"Eres tonta la respuesta correcta es: {respuesta_correcta}\")\n",
    "        intentos_fallidos += 1\n",
    "\n",
    "    print(f\"Llevas {contador_jugador} puntos y has fallado {intentos_fallidos} veces\")\n",
    "\n",
    "    \n",
    "if contador_jugador == 5:\n",
    "    print(\"¡Has ganado! Sabes un montón de geografía.\")\n",
    "elif intentos_fallidos == 3:\n",
    "    print(\"Oooohhhh has perdido.\")\n",
    "\n",
    "#hasta aqui esta perfecto\n",
    "\n",
    "\n",
    "## FALTA, pero los mínimos están: \n",
    "# Dos intentos por pregunta\n",
    "# Repite: añadir más o que no repita paises"
   ]
  }
 ],
 "metadata": {
  "kernelspec": {
   "display_name": "base",
   "language": "python",
   "name": "python3"
  },
  "language_info": {
   "codemirror_mode": {
    "name": "ipython",
    "version": 3
   },
   "file_extension": ".py",
   "mimetype": "text/x-python",
   "name": "python",
   "nbconvert_exporter": "python",
   "pygments_lexer": "ipython3",
   "version": "3.12.7"
  }
 },
 "nbformat": 4,
 "nbformat_minor": 2
}
