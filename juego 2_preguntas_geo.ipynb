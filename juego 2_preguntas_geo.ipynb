{
 "cells": [
  {
   "cell_type": "markdown",
   "metadata": {},
   "source": [
    "JUEGO 2: PREGUNTAS Y RESPUESTAS"
   ]
  },
  {
   "cell_type": "markdown",
   "metadata": {},
   "source": [
    "Cliente:\n",
    "- Colegios de primaria que aplican el enfoque pedagogico STEAM (Ciencias, Técnologías, Ingeniería, Artes y Matemáticas) y necesitan un juego con el que consolidar su aprendizaje, en este caso, en Geografía.\n"
   ]
  },
  {
   "cell_type": "markdown",
   "metadata": {},
   "source": [
    "Objetivo:\n",
    "- Consolidar el aprendizaje de capitales.\n",
    "- Familiarizarse con un entorno tecnológico desde pequeños."
   ]
  },
  {
   "cell_type": "markdown",
   "metadata": {},
   "source": [
    "Audiencia:\n",
    "- Colegios.\n",
    "- Docentes.\n",
    "- Enfocado a niños de entre 9 y 12 años."
   ]
  },
  {
   "cell_type": "markdown",
   "metadata": {},
   "source": [
    "Aspectos importantes del juego a destacar:\n"
   ]
  },
  {
   "cell_type": "markdown",
   "metadata": {},
   "source": [
    "- Respuesta libre.\n",
    "- Fácil de usar.\n",
    "- Adaptabilidad para distintos niveles educativos (básico, intermedio, avanzado)."
   ]
  },
  {
   "cell_type": "code",
   "execution_count": null,
   "metadata": {},
   "outputs": [],
   "source": [
    "diccionario_geo = { \"serbia\": \"belgrado\", \"canada\": \"ottawa\", \"colombia\": \"bogota\",\n",
    "                    \"francia\": \"paris\", \"inglaterra\": \"londres\", \"brasil\": \"brasilia\",\n",
    "                    \"bulgaria\": \"sofia\", \"costa rica\": \"san jose\", \"argelia\": \"argel\",\n",
    "                    \"finlandia\": \"helsinki\", \"georgia\": \"tiflis\", \"japon\": \"tokio\",\n",
    "                    \"bolivia\": \"la paz\", \"portugal\": \"lisboa\", \"nepal\": \"katmandu\",\n",
    "                    \"alemania\": \"berlin\", \"italia\": \"roma\", \"españa\": \"madrid\",\n",
    "                    \"mexico\": \"ciudad de mexico\", \"australia\": \"canberra\",\n",
    "                    \"china\": \"pekin\", \"rusia\": \"moscu\", \"grecia\": \"atenas\",\n",
    "                    \"egipto\": \"el cairo\", \"noruega\": \"oslo\", \"suecia\": \"estocolmo\",\n",
    "                    \"suiza\": \"berna\", \"polonia\": \"varsovia\", \"india\": \"nueva delhi\",\n",
    "                    \"argentina\": \"buenos aires\", \"chile\": \"santiago\", \"peru\": \"lima\",\n",
    "                    \"venezuela\": \"caracas\", \"uruguay\": \"montevideo\", \"paraguay\": \"asuncion\",\n",
    "                    \"ecuador\": \"quito\", \"panama\": \"ciudad de panama\", \"cuba\": \"la habana\",\n",
    "                    \"honduras\": \"tegucigalpa\", \"nicaragua\": \"managua\", \"sudafrica\": \"pretoria\",\n",
    "                    \"corea del sur\": \"seul\", \"corea del norte\": \"pyongyang\", \"turquia\": \"ankara\",\n",
    "                    \"irlanda\": \"dublin\", \"holanda\": \"amsterdam\", \"belgica\": \"bruselas\", \"dinamarca\": \"copenhague\",\n",
    "                    \"ucrania\": \"kiev\", \"islandia\": \"reikiavik\", \"hungria\": \"budapest\" }"
   ]
  },
  {
   "cell_type": "code",
   "execution_count": null,
   "metadata": {},
   "outputs": [],
   "source": [
    "diccionario_geo"
   ]
  },
  {
   "cell_type": "code",
   "execution_count": null,
   "metadata": {},
   "outputs": [],
   "source": [
    "import random      # clave-valor      keys- values\n",
    "\n",
    "#variables contadores\n",
    "contador_jugador = 0  # Respuestas correctas\n",
    "intentos_fallidos = 0  # Respuestas incorrectas\n",
    "ganar_partida = 5  # Número de respuestas correctas para ganar\n",
    "perder_partida = 3  # Número de respuestas incorrectas para perder\n",
    "contador_preguntas = contador_jugador + intentos_fallidos + 1   # El contador comienza en 0. \n",
    "\n",
    "\n",
    "while contador_jugador < ganar_partida and intentos_fallidos < perder_partida:\n",
    "    eleccion_compu = random.choice(list(diccionario_geo.keys()))\n",
    "    respuesta_correcta = diccionario_geo.get(eleccion_compu)\n",
    "    eleccion_jugador = input(f\"¿Cuál es la capital de {eleccion_compu}?🗺️ \").strip().lower()\n",
    "    contador_preguntas = contador_jugador + intentos_fallidos +1    \n",
    "\n",
    "    if eleccion_jugador == respuesta_correcta:\n",
    "        print(\"¡Qué guay, te la sabes!💡\")\n",
    "        contador_jugador += 1\n",
    "\n",
    "        \n",
    "    else:\n",
    "        print(f\"¡Uy! Tienes que repasar; la respuesta correcta es: {respuesta_correcta}🥴\")\n",
    "        intentos_fallidos += 1\n",
    "\n",
    "    print(f\"Llevas {contador_jugador} puntos y has fallado {intentos_fallidos} veces\")\n",
    "\n",
    "    \n",
    "if contador_jugador == 5:\n",
    "    print(\"¡Has ganado! Sabes un montón de geografía.🤓\")\n",
    "elif intentos_fallidos == 3:\n",
    "    print(\"Oooohhhh has perdido.😢\")\n",
    "\n",
    "print(f\"Rondas totales jugadas: {contador_preguntas}\")\n",
    "\n",
    "\n"
   ]
  }
 ],
 "metadata": {
  "kernelspec": {
   "display_name": "base",
   "language": "python",
   "name": "python3"
  },
  "language_info": {
   "codemirror_mode": {
    "name": "ipython",
    "version": 3
   },
   "file_extension": ".py",
   "mimetype": "text/x-python",
   "name": "python",
   "nbconvert_exporter": "python",
   "pygments_lexer": "ipython3",
   "version": "3.12.7"
  }
 },
 "nbformat": 4,
 "nbformat_minor": 2
}
